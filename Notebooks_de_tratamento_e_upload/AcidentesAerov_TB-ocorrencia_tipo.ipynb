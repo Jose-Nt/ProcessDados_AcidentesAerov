{
 "cells": [
  {
   "cell_type": "code",
   "execution_count": 1,
   "id": "42f5b2ff",
   "metadata": {},
   "outputs": [],
   "source": [
    "#-----IMPORTANDO ARQUIVO CSV E CRIANDO DATA FRAME 'df_ocorrencia_tipo'-----#\n",
    "\n",
    "import os \n",
    "import pandas as pd\n",
    "import numpy as np \n",
    "import psycopg2 as pg\n",
    "\n",
    "df_ocorrencia_tipo = pd.read_csv('C:\\\\Users\\\\josen\\\\Desktop\\\\Projetos\\\\ocorrencia_tipo.csv', delimiter=';', encoding='utf-8')"
   ]
  },
  {
   "cell_type": "code",
   "execution_count": 2,
   "id": "b77996d9",
   "metadata": {},
   "outputs": [],
   "source": [
    "#-----CORREÇÃO DE ERROS NA FORMATAÇÃO DOS DADOS-----#\n",
    "\n",
    "#-----Células com dados inválidos\n",
    "df_ocorrencia_tipo = df_ocorrencia_tipo.replace('***', '')"
   ]
  },
  {
   "cell_type": "code",
   "execution_count": 6,
   "id": "404354b5",
   "metadata": {},
   "outputs": [
    {
     "name": "stdout",
     "output_type": "stream",
     "text": [
      "Conectado ao banco de dados projeto_acidentes_aeroviarios com sucesso\n"
     ]
    }
   ],
   "source": [
    "#-----CONECTANDO AO BANCO DE DADOS-----#\n",
    "\n",
    "host = 'localhost'\n",
    "dbname = 'projeto_acidentes_aeroviarios'\n",
    "user = '********'\n",
    "password = '*******'\n",
    "sslmode = 'disable'\n",
    "\n",
    "conect_string = 'host={} user={} dbname={} password={} sslmode={}'.format(host, user, dbname, password, sslmode)\n",
    "conec = pg.connect(conect_string)\n",
    "cursor = conec.cursor()\n",
    "\n",
    "print('Conectado ao banco de dados {} com sucesso'.format(dbname))"
   ]
  },
  {
   "cell_type": "code",
   "execution_count": 4,
   "id": "528315c0",
   "metadata": {},
   "outputs": [],
   "source": [
    "#-----GERANDO NOMES DAS COLUNAS PARA AUTOMATIZAR O COMANDO DE CRIAÇÃO DE TABELA-----#\n",
    "\n",
    "tipos_de_dados_formatpostgr = {\n",
    "    'object' : 'varchar',\n",
    "    'int32' : 'integer',\n",
    "    'int64' : 'integer',\n",
    "    'datetime64[ns]' : 'date',\n",
    "    'float64' : 'numeric'\n",
    "}\n",
    "colunas_formatadas = ', '.join('{} {}'.format(n, d) for (n, d) in zip(df_ocorrencia_tipo.columns, df_ocorrencia_tipo.dtypes.replace(tipos_de_dados_formatpostgr)))\n",
    "colunas_ocorrencia_tipo = colunas_formatadas.replace('horario varchar', 'horario time with time zone')"
   ]
  },
  {
   "cell_type": "code",
   "execution_count": 5,
   "id": "d2178278",
   "metadata": {},
   "outputs": [],
   "source": [
    "#-----CRIANDO NOVA TABELA DENTRO DO BANCO DE DADOS-----#\n",
    "\n",
    "nome_da_tabela = 'ocorrencia_tipo'\n",
    "colunas = colunas_ocorrencia_tipo\n",
    "sql_querry = 'create table {} ({})'.format(nome_da_tabela, colunas)\n",
    "cursor.execute(sql_querry)\n",
    "conec.commit()\n",
    "cursor.close()\n",
    "conec.close()"
   ]
  },
  {
   "cell_type": "code",
   "execution_count": 7,
   "id": "88bfab16",
   "metadata": {},
   "outputs": [
    {
     "name": "stdout",
     "output_type": "stream",
     "text": [
      "Arquivo adicionado a tabela ocorrencia_tipo no banco de dados projeto_acidentes_aeroviarios com sucesso\n"
     ]
    }
   ],
   "source": [
    "#-----SALVANDO O DATA FRAME 'df_ocorrencia_tipo' DENTRO DA TABELA 'ocorrencia_tipo'-----#\n",
    "\n",
    "df_ocorrencia_tipo.to_csv('ocorrencia_tipo', header=df_ocorrencia_tipo.columns, index=False, encoding='utf-8')\n",
    "arquivo_aberto_para_upload = open('ocorrencia_tipo', encoding='utf-8')\n",
    "\n",
    "consulta_sql_para_upload = \"\"\"\n",
    "COPY ocorrencia_tipo FROM STDIN WITH\n",
    "    CSV HEADER\n",
    "    DELIMITER ','\n",
    "    ENCODING 'utf-8'\n",
    "\"\"\"\n",
    "cursor.copy_expert(sql=consulta_sql_para_upload, file=arquivo_aberto_para_upload)\n",
    "conec.commit()\n",
    "cursor.close()\n",
    "conec.close()\n",
    "print('Arquivo adicionado a tabela {} no banco de dados {} com sucesso'.format(nome_da_tabela, dbname))"
   ]
  },
  {
   "cell_type": "code",
   "execution_count": null,
   "id": "b804737c",
   "metadata": {},
   "outputs": [],
   "source": []
  }
 ],
 "metadata": {
  "kernelspec": {
   "display_name": "Python 3 (ipykernel)",
   "language": "python",
   "name": "python3"
  },
  "language_info": {
   "codemirror_mode": {
    "name": "ipython",
    "version": 3
   },
   "file_extension": ".py",
   "mimetype": "text/x-python",
   "name": "python",
   "nbconvert_exporter": "python",
   "pygments_lexer": "ipython3",
   "version": "3.9.13"
  }
 },
 "nbformat": 4,
 "nbformat_minor": 5
}
