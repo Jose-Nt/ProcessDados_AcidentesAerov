{
 "cells": [
  {
   "cell_type": "code",
   "execution_count": 181,
   "id": "c3439918",
   "metadata": {},
   "outputs": [],
   "source": [
    "#-----IMPORTANDO ARQUIVO CSV E CRIANDO DATA FRAME 'df_ocorrencia'-----#\n",
    "\n",
    "import os \n",
    "import pandas as pd\n",
    "import numpy as np \n",
    "import psycopg2 as pg\n",
    "\n",
    "df_ocorrencia = pd.read_csv('C:\\\\Users\\\\josen\\\\Desktop\\\\Projetos\\\\ocorrencia.csv', encoding='utf-8', delimiter=';')"
   ]
  },
  {
   "cell_type": "code",
   "execution_count": 182,
   "id": "b27d6796",
   "metadata": {},
   "outputs": [],
   "source": [
    "#-----CORREÇÃO DE ERROS NA FORMATAÇÃO DOS DADOS-----#\n",
    "\n",
    "import warnings\n",
    "\n",
    "\n",
    "#-----Dados com mais de um '-'\n",
    "num_celulax_lon = 0\n",
    "\n",
    "while num_celulax_lon <= 6658:\n",
    "    dado_com_erro_lon = df_ocorrencia['ocorrencia_longitude'].iloc[num_celulax_lon]\n",
    "    dado_com_erro_lon = str(dado_com_erro_lon)\n",
    "    numSinal = dado_com_erro_lon.count('-')\n",
    "    \n",
    "    if numSinal >= 2:\n",
    "        str_para_rep = dado_com_erro_lon[0]\n",
    "        df_ocorrencia['ocorrencia_longitude'].iloc[num_celulax_lon] = df_ocorrencia['ocorrencia_longitude'].iloc[num_celulax_lon].replace(str_para_rep, '')\n",
    "    \n",
    "    num_celulax_lon = num_celulax_lon + 1\n",
    "    \n",
    "    \n",
    "#-----Células com  dados inválidos\n",
    "df_ocorrencia = df_ocorrencia.replace('***', '')\n",
    "df_ocorrencia['ocorrencia_latitude'] = df_ocorrencia['ocorrencia_latitude'].replace(u\"DESCONHECIDA\", \"\", regex=True)\n",
    "df_ocorrencia['ocorrencia_longitude'] = df_ocorrencia['ocorrencia_longitude'].replace(u\"DESCONHECIDA\", \"\", regex=True)\n",
    "df_ocorrencia['ocorrencia_latitude'] = df_ocorrencia['ocorrencia_latitude'].replace(\"***\", \"\")\n",
    "df_ocorrencia['ocorrencia_longitude'] = df_ocorrencia['ocorrencia_longitude'].replace(\"***\", \"\")\n",
    "df_ocorrencia['ocorrencia_latitude'] = df_ocorrencia['ocorrencia_latitude'].replace(u\"NÃOINFORMADO\", \"\", regex=True)\n",
    "df_ocorrencia['ocorrencia_longitude'] = df_ocorrencia['ocorrencia_longitude'].replace(u\"NÃOINFORMADO\", \"\", regex=True)\n",
    "\n",
    "\n",
    "#-----Substituindo ',' por '.' para que os dados sejam tratados como numéricos\n",
    "df_ocorrencia['ocorrencia_latitude'] = df_ocorrencia['ocorrencia_latitude'].replace(u\",\", \".\", regex=True)\n",
    "df_ocorrencia['ocorrencia_longitude'] = df_ocorrencia['ocorrencia_longitude'].replace(u\",\", \".\", regex=True)\n",
    "\n",
    "\n",
    "#-----Pequenos erros de formatação\n",
    "df_ocorrencia['ocorrencia_latitude'] = df_ocorrencia['ocorrencia_latitude'].replace(u\"°\", \"\", regex=True)\n",
    "df_ocorrencia['ocorrencia_longitude'] = df_ocorrencia['ocorrencia_longitude'].replace(u\"°\", \"\", regex=True)\n",
    "df_ocorrencia['ocorrencia_latitude'] = df_ocorrencia['ocorrencia_latitude'].replace(u\" \", \"\", regex=True)\n",
    "df_ocorrencia['ocorrencia_longitude'] = df_ocorrencia['ocorrencia_longitude'].replace(u\" \", \"\", regex=True)\n",
    "df_ocorrencia['ocorrencia_latitude'] = df_ocorrencia['ocorrencia_latitude'].replace(u\"W\", \"\", regex=True)\n",
    "df_ocorrencia['ocorrencia_longitude'] = df_ocorrencia['ocorrencia_longitude'].replace(u\"W\", \"\", regex=True)\n",
    "df_ocorrencia['ocorrencia_latitude'] = df_ocorrencia['ocorrencia_latitude'].replace(u\"S\", \"\", regex=True)\n",
    "df_ocorrencia['ocorrencia_longitude'] = df_ocorrencia['ocorrencia_longitude'].replace(u\"S\", \"\", regex=True)\n",
    "df_ocorrencia['ocorrencia_latitude'] = df_ocorrencia['ocorrencia_latitude'].str.replace(\"\\\\\",\"\")\n",
    "df_ocorrencia['ocorrencia_longitude'] = df_ocorrencia['ocorrencia_longitude'].str.replace(\"\\\\\",\"\")\n",
    "df_ocorrencia['ocorrencia_latitude'] = df_ocorrencia['ocorrencia_latitude'].str.replace(\"*\",\"\")\n",
    "df_ocorrencia['ocorrencia_longitude'] = df_ocorrencia['ocorrencia_longitude'].str.replace(\"*\",\"\")\n",
    "df_ocorrencia['ocorrencia_longitude'] = df_ocorrencia['ocorrencia_longitude'].str.replace(\"_\",\"\")\n",
    "df_ocorrencia['ocorrencia_latitude'] = df_ocorrencia['ocorrencia_latitude'].str.replace(\"_\",\"\")\n",
    "df_ocorrencia['ocorrencia_longitude'] = df_ocorrencia['ocorrencia_longitude'].str.replace(\"_\",\"\")\n",
    "df_ocorrencia['ocorrencia_latitude'] = df_ocorrencia['ocorrencia_latitude'].str.replace(\"’\",\"\")\n",
    "df_ocorrencia['ocorrencia_longitude'] = df_ocorrencia['ocorrencia_longitude'].str.replace(\"’\",\"\")\n",
    "df_ocorrencia['ocorrencia_latitude'] = df_ocorrencia['ocorrencia_latitude'].str.replace(\"”\",\"\")\n",
    "df_ocorrencia['ocorrencia_longitude'] = df_ocorrencia['ocorrencia_longitude'].str.replace(\"”\",\"\")                                                      \n",
    "df_ocorrencia['ocorrencia_latitude'] = df_ocorrencia['ocorrencia_latitude'].str.replace(u't', '')\n",
    "df_ocorrencia['ocorrencia_longitude'] = df_ocorrencia['ocorrencia_longitude'].str.replace(u't','')\n",
    "\n",
    "warnings.filterwarnings('ignore')"
   ]
  },
  {
   "cell_type": "code",
   "execution_count": null,
   "id": "22c3ef6c",
   "metadata": {},
   "outputs": [],
   "source": [
    "#------REPLACE EM DADOS PREENCHIDOS COMO 'Longitude:-xxxxx'-----#\n",
    "num_celula_lon = 0\n",
    "while num_celula_lon < 6658:\n",
    "    \n",
    "    linha_com_erro = df_ocorrencia['ocorrencia_longitude'].iloc[num_celula_lon]\n",
    "    linha_com_erro = str(linha_com_erro)\n",
    "    \n",
    "    if linha_com_erro != '':\n",
    "        if linha_com_erro[0] == 'L':\n",
    "            df_ocorrencia['ocorrencia_longitude'].iloc[num_celula_lon] = df_ocorrencia['ocorrencia_longitude'].iloc[num_celula_lon].replace(linha_com_erro, '')\n",
    "            \n",
    "    num_celula_lon = num_celula_lon + 1\n",
    "    \n",
    "\n",
    "#------REPLACE EM DADOS PREENCHIDOS COMO 'Latitude:-xx'-----#\n",
    "num_celula_lat = 0\n",
    "while num_celula_lat < 6658:\n",
    "    \n",
    "    linha_com_erro_lat = df_ocorrencia['ocorrencia_latitude'].iloc[num_celula_lat]\n",
    "    linha_com_erro_lat = str(linha_com_erro_lat)\n",
    "    \n",
    "    if linha_com_erro_lat != '':\n",
    "        if linha_com_erro_lat[0] == 'L':\n",
    "            df_ocorrencia['ocorrencia_latgitude'].iloc[num_celula_lat] = df_ocorrencia['ocorrencia_latitude'].iloc[num_celula_lat].replace(linha_com_erro_lat, '')\n",
    "            \n",
    "    num_celula_lat = num_celula_lat + 1"
   ]
  },
  {
   "cell_type": "markdown",
   "id": "6cff24c9",
   "metadata": {},
   "source": [
    "Alguns dados de latitude e longitude estavam com erros de formatação que implicaram na adição de '.' (pontos) a cada\n",
    "3 caracteres, o que impossibilita seu uso e/ou recuperação. Porém outros dados não apresentavam o mesmo problema.\n",
    "A solução a seguir foi pensada a fim de aproveitar a maior quantidade de dados viáveis possíveis e retirar da tabela \n",
    "somente as células com mais de um '.', substituindo as mesmas por células vazias."
   ]
  },
  {
   "cell_type": "code",
   "execution_count": 183,
   "id": "943f53bc",
   "metadata": {},
   "outputs": [],
   "source": [
    "#-----LISTA COM CÉLULAS QUE POSSUEM MAIS DE UM PONTO EM LONGITUDE:\n",
    "celula_x = 0\n",
    "listaValores_replace_lon = []\n",
    "\n",
    "while celula_x < 6658:\n",
    "    linha_lon = df_ocorrencia['ocorrencia_longitude'].iloc[celula_x]\n",
    "    linha_lon = str(linha_lon)\n",
    "    valorRep_lon = f'{linha_lon}'\n",
    "    num_pontos_lon = (linha_lon.count(\".\"))\n",
    "    \n",
    "    if num_pontos_lon >= 2:\n",
    "        listaValores_replace_lon.append(valorRep_lon)\n",
    "        \n",
    "    celula_x = celula_x + 1    \n",
    "\n",
    "     \n",
    "#-----LISTA COM CÉLULAS QUE POSSUEM MAIS DE UM PONTO EM LATITUDE:\n",
    "celula_y = 0\n",
    "listaValores_replace_lat = []\n",
    "\n",
    "while celula_y < 6658:\n",
    "    linha_lat = df_ocorrencia['ocorrencia_latitude'].iloc[celula_y]\n",
    "    linha_lat = str(linha_lat)\n",
    "    valorRep_lat = f'{linha_lat}'\n",
    "    num_pontos_lat = (linha_lat.count(\".\"))\n",
    "    \n",
    "    if num_pontos_lat >= 2:\n",
    "        listaValores_replace_lat.append(valorRep_lat)  \n",
    "        \n",
    "    celula_y = celula_y + 1\n",
    "\n",
    "    \n",
    "#-----REPLACE LONGITUDE COM BASE NA LISTA ANTERIORMENTE CRIADA:\n",
    "elemento_x = 0\n",
    "numElementos_rep_lon = len(listaValores_replace_lon)\n",
    "\n",
    "while elemento_x < numElementos_rep_lon:\n",
    "    valor_rep_lon = listaValores_replace_lon[elemento_x]\n",
    "    df_ocorrencia['ocorrencia_longitude'] = df_ocorrencia['ocorrencia_longitude'].replace(valor_rep_lon, '', regex=True)\n",
    "    elemento_x = elemento_x + 1\n",
    " \n",
    "\n",
    "#-----REPLACE LATITUDE COM BASE NA LISTA ANTERIORMENTE CRIADA:\n",
    "elemento_y = 0\n",
    "numElementos_rep_lat = len(listaValores_replace_lat)\n",
    "\n",
    "while elemento_y < numElementos_rep_lat:\n",
    "    valor_rep_lat = listaValores_replace_lat[elemento_y]\n",
    "    df_ocorrencia['ocorrencia_latitude'] = df_ocorrencia['ocorrencia_latitude'].replace(valor_rep_lat, '', regex=True)\n",
    "    elemento_y = elemento_y + 1"
   ]
  },
  {
   "cell_type": "code",
   "execution_count": 189,
   "id": "2706de8e",
   "metadata": {},
   "outputs": [
    {
     "name": "stdout",
     "output_type": "stream",
     "text": [
      "Conectado ao banco de dados projeto_acidentes_aeroviarios com sucesso\n"
     ]
    }
   ],
   "source": [
    "#-----CONECTANDO AO BANCO DE DADOS-----#\n",
    "\n",
    "host = 'localhost'\n",
    "dbname = 'projeto_acidentes_aeroviarios'\n",
    "user = '********'\n",
    "password = '*******'\n",
    "sslmode = 'disable'\n",
    "\n",
    "conect_string = 'host={} user={} dbname={} password={} sslmode={}'.format(host, user, dbname, password, sslmode)\n",
    "conec = pg.connect(conect_string)\n",
    "cursor = conec.cursor()\n",
    "\n",
    "print('Conectado ao banco de dados {} com sucesso'.format(dbname))"
   ]
  },
  {
   "cell_type": "code",
   "execution_count": 157,
   "id": "a59fcf61",
   "metadata": {},
   "outputs": [
    {
     "data": {
      "text/plain": [
       "'codigo_ocorrencia integer, codigo_ocorrencia1 integer, codigo_ocorrencia2 integer, codigo_ocorrencia3 integer, codigo_ocorrencia4 integer, ocorrencia_classificacao varchar, ocorrencia_latitude varchar, ocorrencia_longitude varchar, ocorrencia_cidade varchar, ocorrencia_uf varchar, ocorrencia_pais varchar, ocorrencia_aerodromo varchar, ocorrencia_dia varchar, ocorrencia_hora varchar, investigacao_aeronave_liberada varchar, investigacao_status varchar, divulgacao_relatorio_numero varchar, divulgacao_relatorio_publicado varchar, divulgacao_dia_publicacao varchar, total_recomendacoes integer, total_aeronaves_envolvidas integer, ocorrencia_saida_pista varchar'"
      ]
     },
     "execution_count": 157,
     "metadata": {},
     "output_type": "execute_result"
    }
   ],
   "source": [
    "#-----GERANDO NOMES DAS COLUNAS PARA AUTOMATIZAR O COMANDO DE CRIAÇÃO DE TABELA-----#\n",
    "\n",
    "tipos_de_dados_formatpostgr = {\n",
    "    'object' : 'varchar',\n",
    "    'int32' : 'integer',\n",
    "    'int64' : 'integer',\n",
    "    'datetime64[ns]' : 'date',\n",
    "    'float64' : 'numeric'\n",
    "}\n",
    "colunas_formatadas = ', '.join('{} {}'.format(n, d) for (n, d) in zip(df_ocorrencia.columns, df_ocorrencia.dtypes.replace(tipos_de_dados_formatpostgr)))\n",
    "colunas_ocorrencia = colunas_formatadas.replace('horario varchar', 'horario time with time zone')\n",
    "colunas_ocorrencia"
   ]
  },
  {
   "cell_type": "code",
   "execution_count": 187,
   "id": "4854cc84",
   "metadata": {},
   "outputs": [],
   "source": [
    "#-----CRIANDO NOVA TABELA DENTRO DO BANCO DE DADOS-----#\n",
    "\n",
    "nome_da_tabela = 'ocorrencia'\n",
    "colunas = 'codigo_ocorrencia integer, codigo_ocorrencia1 integer, codigo_ocorrencia2 integer, codigo_ocorrencia3 integer, codigo_ocorrencia4 integer, ocorrencia_classificacao varchar, ocorrencia_latitude numeric, ocorrencia_longitude numeric, ocorrencia_cidade varchar, ocorrencia_uf varchar, ocorrencia_pais varchar, ocorrencia_aerodromo varchar, ocorrencia_dia date, ocorrencia_hora time with time zone, investigacao_aeronave_liberada varchar, investigacao_status varchar, divulgacao_relatorio_numero varchar, divulgacao_relatorio_publicado varchar, divulgacao_dia_publicacao date, total_recomendacoes integer, total_aeronaves_envolvidas integer, ocorrencia_saida_pista varchar'\n",
    "sql_querry = 'create table {} ({})'.format(nome_da_tabela, colunas)\n",
    "cursor.execute(sql_querry)\n",
    "conec.commit()\n",
    "cursor.close()\n",
    "conec.close()"
   ]
  },
  {
   "cell_type": "code",
   "execution_count": 190,
   "id": "10ec5570",
   "metadata": {},
   "outputs": [
    {
     "name": "stdout",
     "output_type": "stream",
     "text": [
      "Arquivo adicionado no banco de dados projeto_acidentes_aeroviarios com sucesso\n"
     ]
    }
   ],
   "source": [
    "#-----SALVANDO O DATA FRAME 'df_ocorrencia' DENTRO DA TABELA 'ocorrencia'-----#\n",
    "\n",
    "columns = \"'codigo_ocorrencia', 'codigo_ocorrencia1', 'codigo_ocorrencia2','codigo_ocorrencia3', 'codigo_ocorrencia4', 'ocorrencia_classificacao','ocorrencia_latitude', 'ocorrencia_longitude', 'ocorrencia_cidade','ocorrencia_uf', 'ocorrencia_pais', 'ocorrencia_aerodromo','ocorrencia_dia', 'ocorrencia_hora', 'investigacao_aeronave_liberada','investigacao_status', 'divulgacao_relatorio_numero','divulgacao_relatorio_publicado', 'divulgacao_dia_publicacao','total_recomendacoes', 'total_aeronaves_envolvidas','ocorrencia_saida_pista'\"\n",
    "df_ocorrencia.to_csv('ocorrencia', header=columns, index=False, encoding='utf-8')\n",
    "arquivo_aberto_para_upload = open('ocorrencia', encoding='utf-8')\n",
    "\n",
    "consulta_sql_para_upload = \"\"\"\n",
    "COPY ocorrencia FROM STDIN WITH\n",
    "    CSV HEADER\n",
    "    DELIMITER ','\n",
    "    ENCODING 'utf-8'\n",
    "\"\"\"\n",
    "\n",
    "cursor.copy_expert(sql=consulta_sql_para_upload, file=arquivo_aberto_para_upload)\n",
    "conec.commit()\n",
    "cursor.close()\n",
    "conec.close()\n",
    "\n",
    "print('Arquivo adicionado no banco de dados {} com sucesso'.format(dbname))"
   ]
  },
  {
   "cell_type": "code",
   "execution_count": null,
   "id": "3ccada28",
   "metadata": {},
   "outputs": [],
   "source": []
  }
 ],
 "metadata": {
  "kernelspec": {
   "display_name": "Python 3 (ipykernel)",
   "language": "python",
   "name": "python3"
  },
  "language_info": {
   "codemirror_mode": {
    "name": "ipython",
    "version": 3
   },
   "file_extension": ".py",
   "mimetype": "text/x-python",
   "name": "python",
   "nbconvert_exporter": "python",
   "pygments_lexer": "ipython3",
   "version": "3.9.13"
  }
 },
 "nbformat": 4,
 "nbformat_minor": 5
}
