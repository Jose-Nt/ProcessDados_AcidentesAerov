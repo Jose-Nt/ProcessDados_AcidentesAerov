{
 "cells": [
  {
   "cell_type": "code",
   "execution_count": 108,
   "id": "a976ce37",
   "metadata": {},
   "outputs": [],
   "source": [
    "#-----IMPORTANDO ARQUIVO CSV E CRIANDO DATAFRAME 'df_aeronave'-----#\n",
    "\n",
    "import os \n",
    "import pandas as pd\n",
    "import numpy as np \n",
    "import psycopg2 as pg\n",
    "\n",
    "df_aeronave = pd.read_csv('C:\\\\Users\\\\*****\\\\Desktop\\\\Projetos\\\\aeronave.csv', encoding='utf-8', delimiter=';')"
   ]
  },
  {
   "cell_type": "code",
   "execution_count": 113,
   "id": "ded87e0e",
   "metadata": {},
   "outputs": [
    {
     "name": "stdout",
     "output_type": "stream",
     "text": [
      "Conectado ao banco de dados projeto_acidentes_aeroviarios com sucesso\n"
     ]
    }
   ],
   "source": [
    "#-----CONECTANDO AO BANCO DE DADOS-----#\n",
    "\n",
    "host = 'localhost'\n",
    "dbname = 'projeto_acidentes_aeroviarios'\n",
    "user = '********'\n",
    "password = '*******'\n",
    "sslmode = 'disable'\n",
    "\n",
    "conect_string = 'host={} user={} dbname={} password={} sslmode={}'.format(host, user, dbname, password, sslmode)\n",
    "conec = pg.connect(conect_string)\n",
    "cursor = conec.cursor()\n",
    "\n",
    "print('Conectado ao banco de dados {} com sucesso'.format(dbname))"
   ]
  },
  {
   "cell_type": "code",
   "execution_count": 18,
   "id": "95391c75",
   "metadata": {},
   "outputs": [
    {
     "data": {
      "text/plain": [
       "'codigo_ocorrencia2 integer, aeronave_matricula varchar, aeronave_operador_categoria varchar, aeronave_tipo_veiculo varchar, aeronave_fabricante varchar, aeronave_modelo varchar, aeronave_tipo_icao varchar, aeronave_motor_tipo varchar, aeronave_motor_quantidade varchar, aeronave_pmd numeric, aeronave_pmd_categoria numeric, aeronave_assentos numeric, aeronave_ano_fabricacao numeric, aeronave_pais_fabricante varchar, aeronave_pais_registro varchar, aeronave_registro_categoria varchar, aeronave_registro_segmento varchar, aeronave_voo_origem varchar, aeronave_voo_destino varchar, aeronave_fase_operacao varchar, aeronave_tipo_operacao varchar, aeronave_nivel_dano varchar, aeronave_fatalidades_total numeric'"
      ]
     },
     "execution_count": 18,
     "metadata": {},
     "output_type": "execute_result"
    }
   ],
   "source": [
    "#-----GERANDO NOMES DAS COLUNAS PARA AUTOMATIZAR O COMANDO DE CRIAÇÃO DE TABELA-----#\n",
    "\n",
    "tipos_de_dados_formatpostgr = {\n",
    "    'object' : 'varchar',\n",
    "    'int32' : 'integer',\n",
    "    'int64' : 'integer',\n",
    "    'datetime64[ns]' : 'date',\n",
    "    'float64' : 'numeric'\n",
    "}\n",
    "colunas_formatadas = ', '.join('{} {}'.format(n, d) for (n, d) in zip(df_aeronave.columns, df_aeronave.dtypes.replace(tipos_de_dados_formatpostgr)))\n",
    "colunas_aeronave = colunas_formatadas\n",
    "colunas_aeronave"
   ]
  },
  {
   "cell_type": "code",
   "execution_count": 110,
   "id": "76f56205",
   "metadata": {},
   "outputs": [],
   "source": [
    "#-----CRIANDO NOVA TABELA DENTRO DO BANCO DE DADOS-----#\n",
    "\n",
    "nome_da_tabela = 'aeronave'\n",
    "colunas = \"codigo_ocorrencia2 integer, aeronave_matricula varchar, aeronave_operador_categoria varchar, aeronave_tipo_veiculo varchar, aeronave_fabricante varchar, aeronave_modelo varchar, aeronave_tipo_icao varchar, aeronave_motor_tipo varchar, aeronave_motor_quantidade varchar, aeronave_pmd integer, aeronave_pmd_categoria integer, aeronave_assentos integer, aeronave_ano_fabricacao integer, aeronave_pais_fabricante varchar, aeronave_pais_registro varchar, aeronave_registro_categoria varchar, aeronave_registro_segmento varchar, aeronave_voo_origem varchar, aeronave_voo_destino varchar, aeronave_fase_operacao varchar, aeronave_tipo_operacao varchar, aeronave_nivel_dano varchar, aeronave_fatalidades_total integer\"\n",
    "sql_querry = 'create table {} ({})'.format(nome_da_tabela, colunas)\n",
    "cursor.execute(sql_querry)\n",
    "conec.commit()\n",
    "cursor.close()\n",
    "conec.close()"
   ]
  },
  {
   "cell_type": "code",
   "execution_count": 111,
   "id": "6988ba88",
   "metadata": {},
   "outputs": [],
   "source": [
    "#-----CORREÇÃO DE ERROS NA FORMATAÇÃO DOS DADOS-----#\n",
    "\n",
    "#-----Células com dados inválidos\n",
    "df_aeronave = df_aeronave.replace('***', '')\n",
    "df_aeronave['aeronave_pmd'] = df_aeronave['aeronave_pmd'].astype(str).str.replace('nan', '', regex=True)\n",
    "df_aeronave['aeronave_pmd_categoria'] = df_aeronave['aeronave_pmd_categoria'].astype(str).str.replace('nan', '', regex=True)\n",
    "df_aeronave['aeronave_assentos'] = df_aeronave['aeronave_assentos'].astype(str).str.replace('nan', '', regex=True)\n",
    "df_aeronave['aeronave_fatalidades_total'] = df_aeronave['aeronave_fatalidades_total'].astype(str).str.replace('nan', '', regex=True)\n",
    "df_aeronave['aeronave_ano_fabricacao'] = df_aeronave['aeronave_ano_fabricacao'].astype(str).str.replace('nan', '', regex=True)\n",
    "\n",
    "#-----Números inteiros com formatação de flutuantes\n",
    "df_aeronave['aeronave_pmd_categoria'] = df_aeronave['aeronave_pmd_categoria'].astype(str).str.replace('.0', '', regex=True)\n",
    "df_aeronave['aeronave_pmd'] = df_aeronave['aeronave_pmd'].astype(str).str.replace('.0', '', regex=True)\n",
    "df_aeronave['aeronave_assentos'] = df_aeronave['aeronave_assentos'].astype(str).str.replace('.0', '', regex=True)\n",
    "df_aeronave['aeronave_ano_fabricacao'] = df_aeronave['aeronave_ano_fabricacao'].astype(str).str.replace('.0', '', regex=True)\n",
    "df_aeronave['aeronave_fatalidades_total'] = df_aeronave['aeronave_fatalidades_total'].astype(str).str.replace('.0', '', regex=True)"
   ]
  },
  {
   "cell_type": "code",
   "execution_count": 114,
   "id": "9b082f81",
   "metadata": {},
   "outputs": [
    {
     "name": "stdout",
     "output_type": "stream",
     "text": [
      "Arquivo adicionado a tabela aeronave no banco de dados projeto_acidentes_aeroviarios com sucesso\n"
     ]
    }
   ],
   "source": [
    "#-----SALVANDO O DATA FRAME 'df_aeronave' DENTRO DA TABELA 'aeronave' NO BANCO DE DADOS-----#\n",
    "\n",
    "df_aeronave.to_csv('aeronave', header=df_aeronave.columns, index=False, encoding='utf-8')\n",
    "arquivo_aberto_para_upload = open('aeronave', encoding='utf-8')\n",
    "\n",
    "consulta_sql_para_upload = \"\"\"\n",
    "COPY aeronave FROM STDIN WITH\n",
    "    CSV HEADER\n",
    "    DELIMITER ','\n",
    "    ENCODING 'utf-8'\n",
    "\"\"\"\n",
    "\n",
    "cursor.copy_expert(sql=consulta_sql_para_upload, file=arquivo_aberto_para_upload)\n",
    "conec.commit()\n",
    "cursor.close()\n",
    "conec.close()\n",
    "\n",
    "print('Arquivo adicionado a tabela {} no banco de dados {} com sucesso'.format(nome_da_tabela, dbname))"
   ]
  },
  {
   "cell_type": "code",
   "execution_count": null,
   "id": "6d70f297",
   "metadata": {},
   "outputs": [],
   "source": []
  }
 ],
 "metadata": {
  "kernelspec": {
   "display_name": "Python 3 (ipykernel)",
   "language": "python",
   "name": "python3"
  },
  "language_info": {
   "codemirror_mode": {
    "name": "ipython",
    "version": 3
   },
   "file_extension": ".py",
   "mimetype": "text/x-python",
   "name": "python",
   "nbconvert_exporter": "python",
   "pygments_lexer": "ipython3",
   "version": "3.9.13"
  }
 },
 "nbformat": 4,
 "nbformat_minor": 5
}
