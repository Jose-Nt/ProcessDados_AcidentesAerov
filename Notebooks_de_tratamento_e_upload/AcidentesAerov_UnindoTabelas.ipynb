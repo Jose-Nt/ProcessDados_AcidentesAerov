{
 "cells": [
  {
   "cell_type": "code",
   "execution_count": 10,
   "id": "cef6dadc",
   "metadata": {
    "scrolled": true
   },
   "outputs": [
    {
     "name": "stdout",
     "output_type": "stream",
     "text": [
      "Conectado ao banco de dados projeto_acidentes_aeroviarios com sucesso\n"
     ]
    }
   ],
   "source": [
    "#-----CONECTANDO AO BANCO DE DADOS-----#\n",
    "\n",
    "import os \n",
    "import pandas as pd\n",
    "import numpy as np \n",
    "import psycopg2 as pg\n",
    "\n",
    "host = 'localhost'\n",
    "dbname = 'projeto_acidentes_aeroviarios'\n",
    "user = '********'\n",
    "password = '*******'\n",
    "sslmode = 'disable'\n",
    "\n",
    "conect_string = 'host={} user={} dbname={} password={} sslmode={}'.format(host, user, dbname, password, sslmode)\n",
    "conec = pg.connect(conect_string)\n",
    "cursor = conec.cursor()\n",
    "\n",
    "print('Conectado ao banco de dados {} com sucesso'.format(dbname))"
   ]
  },
  {
   "cell_type": "code",
   "execution_count": 11,
   "id": "f114f093",
   "metadata": {},
   "outputs": [
    {
     "name": "stdout",
     "output_type": "stream",
     "text": [
      "Tabelas unidas no banco de dados projeto_acidentes_aeroviarios com sucesso\n"
     ]
    }
   ],
   "source": [
    "#-----UNINDO AS TABELAS COM INNER JOIN E CRIANDO TABELA FINAL-----#\n",
    "\n",
    "#-----Escrevendo uma consulta em SQL e executando ela através de comandos Python\n",
    "sql_querry_union = '''\n",
    "CREATE TABLE acidentes_aeroviarios AS\n",
    "SELECT codigo_ocorrencia, ocorrencia_classificacao, ocorrencia_latitude, ocorrencia_longitude, ocorrencia_cidade, ocorrencia_uf, ocorrencia_pais, ocorrencia_aerodromo, ocorrencia_dia, ocorrencia_hora, investigacao_aeronave_liberada, investigacao_status, divulgacao_relatorio_numero, divulgacao_relatorio_publicado, divulgacao_dia_publicacao, total_recomendacoes, total_aeronaves_envolvidas, ocorrencia_saida_pista, aeronave_matricula, aeronave_operador_categoria, aeronave_tipo_veiculo, aeronave_fabricante, aeronave_modelo, aeronave_tipo_icao, aeronave_motor_tipo, aeronave_motor_quantidade, aeronave_pmd, aeronave_pmd_categoria, aeronave_assentos, aeronave_ano_fabricacao, aeronave_pais_fabricante, aeronave_pais_registro, aeronave_registro_categoria, aeronave_registro_segmento, aeronave_voo_origem, aeronave_voo_destino, aeronave_fase_operacao, aeronave_tipo_operacao, aeronave_nivel_dano, aeronave_fatalidades_total, taxonomia_tipo_icao, ocorrencia_tipo_categoria, ocorrencia_tipo\n",
    "FROM aeronave\n",
    "INNER JOIN ocorrencia\n",
    "ON aeronave.codigo_ocorrencia2 = ocorrencia.codigo_ocorrencia2\n",
    "INNER JOIN ocorrencia_tipo\n",
    "ON ocorrencia.codigo_ocorrencia = ocorrencia_tipo.codigo_ocorrencia1\n",
    "'''\n",
    "\n",
    "cursor.execute(sql_querry_union)\n",
    "conec.commit()\n",
    "cursor.close()\n",
    "conec.close()\n",
    "\n",
    "print('Tabelas unidas no banco de dados {} com sucesso'.format(dbname))"
   ]
  }
 ],
 "metadata": {
  "kernelspec": {
   "display_name": "Python 3 (ipykernel)",
   "language": "python",
   "name": "python3"
  },
  "language_info": {
   "codemirror_mode": {
    "name": "ipython",
    "version": 3
   },
   "file_extension": ".py",
   "mimetype": "text/x-python",
   "name": "python",
   "nbconvert_exporter": "python",
   "pygments_lexer": "ipython3",
   "version": "3.9.13"
  }
 },
 "nbformat": 4,
 "nbformat_minor": 5
}
